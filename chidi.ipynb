{
 "metadata": {
  "language_info": {
   "codemirror_mode": {
    "name": "ipython",
    "version": 3
   },
   "file_extension": ".py",
   "mimetype": "text/x-python",
   "name": "python",
   "nbconvert_exporter": "python",
   "pygments_lexer": "ipython3",
   "version": "3.6.3-final"
  },
  "orig_nbformat": 2,
  "kernelspec": {
   "name": "python3",
   "display_name": "Python 3.6.3 64-bit",
   "metadata": {
    "interpreter": {
     "hash": "a96b7bdcbcfbdc1d67eedda4d3c38fc1677f61715cae45de8011d97d2a896e76"
    }
   }
  }
 },
 "nbformat": 4,
 "nbformat_minor": 2,
 "cells": [
  {
   "cell_type": "code",
   "execution_count": null,
   "metadata": {},
   "outputs": [],
   "source": [
    "THIS SECTION IS WHERE THE ACTUAL ANALYSIS IS DONE"
   ]
  },
  {
   "cell_type": "code",
   "execution_count": null,
   "metadata": {},
   "outputs": [],
   "source": [
    "from textblob import TextBlob\n",
    "import matplotlib.pyplot as plt\n",
    "import numpy as np\n",
    "import pandas as pd\n",
    "import seaborn as sns\n",
    "import re\n",
    "import csv\n",
    "%matplotlib inline\n"
   ]
  },
  {
   "cell_type": "code",
   "execution_count": null,
   "metadata": {},
   "outputs": [],
   "source": [
    "\n",
    "class TweetAnalyzer():\n",
    "    \"\"\"\n",
    "    A class for cleaning the colleced tweets from twitter and performing the real sentiment analysis.\n",
    "    \"\"\"\n",
    "\n",
    "    def clean_tweet(self, tweet):\n",
    "        \"\"\" For cleaning the tweets to remove unwanted characters before sentiment analysis will be applied to it\"\"\"\n",
    "        return ' '.join(re.sub(\"(@[A-Za-z0-9]+)|([^0-9A-Za-z \\t])|(\\w+:\\/\\/\\S+)\", \" \", tweet).split())\n",
    "\n",
    "    def analyze_sentiment(self, tweet):\n",
    "        \"\"\" Funcionality that implements the sentiment analysis using the TextBlob sentiment analyzer\"\"\"\n",
    "        analysis = TextBlob(self.clean_tweet(tweet))\n",
    "        \n",
    "        if analysis.sentiment.polarity > 0:\n",
    "            return 1\n",
    "        elif analysis.sentiment.polarity == 0:\n",
    "            return 0\n",
    "        else:\n",
    "            return -1"
   ]
  },
  {
   "cell_type": "code",
   "execution_count": null,
   "metadata": {},
   "outputs": [],
   "source": [
    "def sum_sentiments(df, name_of_party):\n",
    "    \"\"\" Functionality to calculate and summarize total sentiments for a single party \"\"\"\n",
    "    positive_sentiments = negative_sentiments = neutral_sentiments = 0\n",
    "    for sentiment in df['Sentiment']:\n",
    "        if sentiment==1:\n",
    "            positive_sentiments+=1\n",
    "        elif sentiment==-1:\n",
    "            negative_sentiments+=1\n",
    "        else:\n",
    "            neutral_sentiments+=1\n",
    "    print(\"\\n\")\n",
    "    print(f\"The Total Positive Sentiments (Sentiments Supporting {name_of_party}) is {positive_sentiments}\")\n",
    "    print(\"The Total Negtative Sentiments (Sentiments Against {name_of_party}) is {negative_sentiments}\")\n",
    "    print(\"The Total Neutral Sentiments (Sentiments that is Neutral) is {neutral_sentiments}\")"
   ]
  },
  {
   "cell_type": "code",
   "execution_count": null,
   "metadata": {},
   "outputs": [],
   "source": [
    "# PLOTS\n",
    "def plot_of_likes_and_retweets(self, df, name_of_party):\n",
    "    plt.style.use('ggplot')\n",
    "    time_likes = pd.Series(data=df['Likes'].values, index=df['Date'])\n",
    "    time_likes.plot(color='r', label=\"Likes\")\n",
    "    time_retweets = pd.Series(data=df['Retweets'].values, index=df['Date'])\n",
    "    time_retweets.plot(color='b', label=\"Retweets\")\n",
    "    plt.title(f\"Likes and Retweets for Tweets Analyzed From {name_of_party}\", fontsize=15)\n",
    "    plt.savefig(f\"images/{name_of_party}_LIKES_RETWEETS.png\")\n",
    "    plt.legend()\n",
    "    plt.show()\n",
    "\n",
    "def plot_dist_of_party_polarity(self, df, name_of_party):\n",
    "    polarity = df2['Sentiment']\n",
    "    p = sns.distplot(polarity, color=\"r\",)\n",
    "    p.set_title(f\"{name_of_party} Tweet Polarity\", fontsize=20)\n",
    "    p.set_xlabel('← Negative — — — — Positive →', fontsize=15)\n",
    "    plt.tight_layout()\n",
    "    plt.savefig('distribution_plot_for_{name_of_party}_polarity.png')\n",
    "    plt.show()\n",
    "\n",
    "def plot_visualization_of_likes_for_apc_and_pdp(self, apc_df, pdp_df):\n",
    "    apc_likes = apc_df['Likes']\n",
    "    pdp_likes = pdp_df['likes']\n",
    "    plt.plot(apc_df['Date'], apc_likes, color='red', label='APC')\n",
    "    plt.plot(pdp_df['Date'], pdp_likes, color='gray', label='PDP')\n",
    "    plt.xlabel('Date')\n",
    "    plt.ylabel('No of Likes')\n",
    "    plt.title('Likes of tweets of APC and PDP')\n",
    "    plt.legend()\n",
    "    plt.tight_layout()\n",
    "    plt.xticks(ticks=[])\n",
    "    plt.savefig('images/plot_visualization_of_likes_for_apc_and_pdp')\n",
    "    plt.show()\n",
    "\n",
    "def plot_visualization_of_retweets_for_apc_and_pdp(self, apc_df, pdp_df):\n",
    "    apc_retweets = apc_df['Retweets']\n",
    "    pdp_retweets = pdp_df['Retweets']\n",
    "    plt.plot(apc_df['Date'], apc_retweets, color='red', label='APC')\n",
    "    plt.plot(pdp_df['Date'], pdp_retweets, color='gray', label='PDP')\n",
    "    plt.xlabel('Date')\n",
    "    plt.ylabel('No of Retweets')\n",
    "    plt.title('Retweets of tweets of APC and PDP')\n",
    "    plt.legend()\n",
    "    plt.tight_layout()\n",
    "    plt.xticks(ticks=[])\n",
    "    plt.savefig('images/plot_visualization_of_retweets_for_apc_and_pdp')\n",
    "    plt.show()\n",
    "\n",
    "\n",
    "def plot_visualization_of_likes_and_retweets_for_apc_and_pdp(self, apc_df, pdp_df):\n",
    "        apc_likes = apc_df['Likes']\n",
    "        pdp_likes = pdp_df['likes']\n",
    "        apc_retweets = apc_df['Retweets']\n",
    "        pdp_retweets = pdp_df['Retweets']\n",
    "        plt.plot(apc_df['Date'], apc_likes, color='red', label='APC LIKES')\n",
    "        plt.plot(pdp_df['Date'], pdp_likes, color='gray', label='PDP LIKES')\n",
    "        plt.plot(apc_df['Date'], apc_retweets, color='blue', label='APC RETWEETS')\n",
    "        plt.plot(pdp_df['Date'], pdp_retweets, color='orange', label='PDP RETWEETS')\n",
    "        plt.xlabel('Date')\n",
    "        plt.ylabel('No of Likes and Retweets')\n",
    "        plt.title('Likes and Retweets of tweets of APC and PDP')\n",
    "        plt.legend()\n",
    "        plt.tight_layout()\n",
    "        plt.xticks(ticks=[])\n",
    "        plt.savefig('images/plot_visualization_of_likes_for_apc_and_pdp')\n",
    "        plt.show()"
   ]
  },
  {
   "cell_type": "code",
   "execution_count": null,
   "metadata": {},
   "outputs": [],
   "source": [
    "all_apc_tweets = 'data/apc_data.csv'\n",
    "#df = pd.read_csv(all_tweets, names=['Tweets', 'ID', 'Len', 'Date', 'Source', 'Likes', 'Retweets'])\n",
    "#df = pd.read_csv(all_tweets, names=['Tweets', 'ID', 'Len', 'Source'])\n",
    "apc_df = pd.read_csv(all_apc_tweets)\n",
    "apc_df.columns = ['ID', 'Tweets', 'Date', 'Source', 'Retweets', 'Likes']\n"
   ]
  },
  {
   "cell_type": "code",
   "execution_count": null,
   "metadata": {},
   "outputs": [],
   "source": [
    "all_pdp_tweets = 'data/pdp_data.csv'\n",
    "#df = pd.read_csv(all_tweets, names=['Tweets', 'ID', 'Len', 'Date', 'Source', 'Likes', 'Retweets'])\n",
    "#df = pd.read_csv(all_tweets, names=['Tweets', 'ID', 'Len', 'Source'])\n",
    "pdp_df = pd.read_csv(all_pdp_tweets)\n",
    "pdp_df.columns = ['ID', 'Tweets', 'Date', 'Source', 'Retweets', 'Likes']"
   ]
  },
  {
   "cell_type": "code",
   "execution_count": null,
   "metadata": {},
   "outputs": [],
   "source": [
    "apc_df.dropna(axis=1, inplace=True)\n",
    "pdp_df.dropna(axis=1, inplace=True)\n"
   ]
  },
  {
   "cell_type": "code",
   "execution_count": null,
   "metadata": {},
   "outputs": [],
   "source": [
    "print(apc_df.shape)\n",
    "print(apc_df.info())\n",
    "print(apc_df.head(20))"
   ]
  },
  {
   "cell_type": "code",
   "execution_count": null,
   "metadata": {},
   "outputs": [],
   "source": [
    "print(pdp_df.shape)\n",
    "print(pdp_df.info())\n",
    "print(pdp_df.head(20))"
   ]
  },
  {
   "cell_type": "code",
   "execution_count": null,
   "metadata": {},
   "outputs": [],
   "source": [
    "tweet_analyzer = TweetAnalyzer()\n",
    "\n",
    "apc_df['Sentiments'] = np.array([tweet_analyzer.analyze_sentiment(tweet) for tweet in apc_df['Tweets']])\n",
    "\n",
    "print(apc_df[['Tweets', 'Sentiments','Retweets', 'Likes', 'Date']].head(20))"
   ]
  },
  {
   "cell_type": "code",
   "execution_count": null,
   "metadata": {},
   "outputs": [],
   "source": [
    "pdp_df['Sentiments'] = np.array([tweet_analyzer.analyze_sentiment(tweet) for tweet in pdp_df['Tweets']])\n",
    "\n",
    "print(pdp_df[['Tweets', 'Sentiments','Retweets', 'Likes', 'Date']].head(20))"
   ]
  },
  {
   "cell_type": "code",
   "execution_count": null,
   "metadata": {},
   "outputs": [],
   "source": [
    "#Get the total of Positive, Negative and Neutral Sentiments for APC\n",
    "print('APC SENTIMENTS')\n",
    "sum_sentiments(apc_df, 'APC')\n",
    "print()\n",
    "print()\n",
    "print('PDP SENTIMENTS')\n",
    "sum_sentiments(pdp_df, 'PDP')\n"
   ]
  },
  {
   "cell_type": "code",
   "execution_count": null,
   "metadata": {},
   "outputs": [],
   "source": [
    "plot_dist_of_party_polarity(apc_df, 'APC')\n",
    "plot_dist_of_party_polarity(pdp_df, 'PDP')"
   ]
  },
  {
   "cell_type": "code",
   "execution_count": null,
   "metadata": {},
   "outputs": [],
   "source": [
    "# Displaying the plots of likes and retweets\n",
    "\n",
    "plot_of_likes_and_retweets(apc_df, 'APC')\n",
    "plot_of_likes_and_retweets(pdp_df, 'PDP')\n"
   ]
  },
  {
   "cell_type": "code",
   "execution_count": null,
   "metadata": {},
   "outputs": [],
   "source": [
    "# Displaying the plots of likes for both party\n",
    "plot_visualization_of_likes_for_apc_and_pdp(apc_df, pdp_df)\n",
    "\n",
    "# Displaying the retweets for both party\n",
    "plot_visualization_of_retweets_for_apc_and_pdp(apc_df, pdp_df)"
   ]
  },
  {
   "cell_type": "code",
   "execution_count": null,
   "metadata": {},
   "outputs": [],
   "source": [
    "# Displaying the likes and retweets for both party\n",
    "\n",
    "plot_visualization_of_likes_and_retweets_for_apc_and_pdp(apc_df, pdp_df)"
   ]
  }
 ]
}