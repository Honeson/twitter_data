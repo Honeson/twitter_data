{
 "metadata": {
  "language_info": {
   "codemirror_mode": {
    "name": "ipython",
    "version": 3
   },
   "file_extension": ".py",
   "mimetype": "text/x-python",
   "name": "python",
   "nbconvert_exporter": "python",
   "pygments_lexer": "ipython3",
   "version": "3.6.3-final"
  },
  "orig_nbformat": 2,
  "kernelspec": {
   "name": "python3",
   "display_name": "Python 3"
  }
 },
 "nbformat": 4,
 "nbformat_minor": 2,
 "cells": [
  {
   "cell_type": "code",
   "execution_count": null,
   "metadata": {},
   "outputs": [],
   "source": [
    "import re\n",
    "import csv\n",
    "import twint"
   ]
  },
  {
   "cell_type": "code",
   "execution_count": null,
   "metadata": {},
   "outputs": [],
   "source": [
    "class TweetCollector():\n",
    "    \"\"\"\n",
    "    Functionality to collect tweets and store it in a csv file specified.\n",
    "    \"\"\"\n",
    "    def collect_tweets_and_store_as_csv_file(self, tweets):\n",
    "        with open('OfficialAPCNg30.csv', 'a+', encoding='utf-8-sig') as all_tweets:\n",
    "            csv_writer = csv.writer(all_tweets)\n",
    "            for line in tweets:\n",
    "                #row = [line.tweet, line.id, len(line.tweet), line.created_at, line.source, line.favorites_count, line.retweets_count]\n",
    "                row = [line.tweet, line.id, len(line.tweet), line.created_at, line.source]\n",
    "                csv_writer.writerow(row)\n",
    "\n",
    "\n",
    "   \n",
    "\n",
    "\n",
    "\n",
    "\n",
    "if __name__ == '__main__':\n",
    "\n",
    "    #twitter_client = TwitterClient()\n",
    "    tweet_collector = TweetCollector()\n",
    "\n",
    "    #api = twitter_client.get_twitter_client_api()\n",
    "\n",
    "    #This is used to get the tweets from APC Handle\n",
    "    '''tweets = api.user_timeline(\n",
    "        screen_name=\"OfficialAPCNg\", \n",
    "        #since-_id=\n",
    "        max_id=1069208235419280000,\n",
    "        count=200,\n",
    "        include_rts=1)'''\n",
    "\n",
    "\n",
    "   \n",
    "\n",
    "\n",
    "    #Using the class object to call the function that stores tweets in a csv file\n",
    "    #tweet_collector.collect_tweets_and_store_as_csv_file(c_object)\n",
    "    "
   ]
  },
  {
   "cell_type": "code",
   "execution_count": 4,
   "metadata": {},
   "outputs": [],
   "source": [
    "import nest_asyncio\n",
    "nest_asyncio.apply()"
   ]
  },
  {
   "cell_type": "code",
   "execution_count": 5,
   "metadata": {
    "tags": [
     "outputPrepend"
    ]
   },
   "outputs": [
    {
     "output_type": "stream",
     "name": "stdout",
     "text": [
      "put them up. So it’s shoot at sight? What happens to the law? Oh, I forget, Buhari is the law.\n1097646670345629697 2019-02-19 00:58:54 +0100 <baTeeatus> For those of us that pray at night, pls PRAY FOR NIGERIA. also include PMB and PYO and the entire APC CLAN in your prayers.  Peaceful warning: I'm speaking to pple of like minds, Buharists and Progressives. If u r not, don't tweet blether on my tl\n1097646124238884865 2019-02-19 00:56:43 +0100 <OdogwuBash> @cuppymusic Don't worry @cuppymusic because she will vote APC if she eventually touch down for the election, due to her Dad's association with the APC. That's her right anyways! So don't bother asking if she's coming down...\n1097646108124348416 2019-02-19 00:56:40 +0100 <AjammaS> @renoomokri @HQNigerianArmy Lazy military, why can't they go &amp; finish Boko Haram? Buhari only remembers that he was once a military man when it comes to armless civilians. Let me make myself clear to Buhari, we cannot sit &amp; watch APC with their military thugs to steal our mandate even if they come wit bombs\n1097646018768846849 2019-02-19 00:56:18 +0100 <kbmkaita> @wFalabede @inecnigeria APC the Nigerian bendor\n1097645867153219585 2019-02-19 00:55:42 +0100 <MummyAhad> Pls what i want to knw is PDP logo is umbrella and APC logo is  a broom and that of APGA is a cock....so my question here is if APGA will go to rally are they using a dead or alive chicken or cock????\n1097645798278483973 2019-02-19 00:55:26 +0100 <BCL_Joe> Just attended an out of hours fault for one of our main clients. Fault is now sorted. Good job I’m fluent in APC #OOH #Fault #UPS #Power #WeAreBCLPower  https://t.co/HUVNUYuwqG\n1097645590622756865 2019-02-19 00:54:36 +0100 <oluwacovermi11> @DrOlufunmilayo Dr calm down. No good civilian with his sense intact will go and snatch ballot box.   Those snatching ballot box are side by side to BokoHaram.   If u can kill Boko haram, u can kill ballot box snatcher.   So APC and PDP thugs should use der head and lets us vote jejely.\n1097645451287846912 2019-02-19 00:54:03 +0100 <EcoCityNews1> APC &amp; PDP are same people fooling us, God punish una papa one by one – Wizkid blows hot: In the wake of Nigerian elections being postponed, music sensation, Wizkid, has called on Nigerians to wake up from their slumber. ￼ The singer who has been away…  https://t.co/GPgbxvm4E7  https://t.co/ZR7Asq3JUG\n1097645333843197952 2019-02-19 00:53:35 +0100 <NobelAyoola> @MobilePunch Only APC members will vote for while eligible Nigerians will vote otherwise.  No single reason why a none APC member can vote for you again\n1097645288708177920 2019-02-19 00:53:24 +0100 <odii_chet> @OsosaChris @dappyboy0489 What a shame! With all what has gone wrong in this country you talk about regional politics. May your sons resemble Buhari and APC. Make sure you say Amen to that!\n1097645219514851328 2019-02-19 00:53:08 +0100 <DaboZWarmate> Who's the worse Lair amongst the following names:1. Lei Mohammed 2. Oshiomole 3. Garba shehu 4. Lauretta Onochie 5. APC media men. @aitkakaaki @renoomokri @OfficialPDPNig\n1097645131375685632 2019-02-19 00:52:47 +0100 <kingysly_01> And the leadership of APC doesn't want power. Fake prophet\n1097645131103174657 2019-02-19 00:52:47 +0100 <brenda_apc> 😍😍😍 #NovelaJesus148  https://t.co/QGP46jrlwd\n1097644985103642627 2019-02-19 00:52:12 +0100 <joyceonyekwere> APC Caucus Directs Members To Continue Campaigns Till Thursday    https://t.co/bUCqRkMKCe  https://t.co/GGke9jqwop\n1097644976190734336 2019-02-19 00:52:10 +0100 <BigGoddy2001> @PhilipObin @PoliceNG LMAOOOOOO 😂😂, this is an APC strategist, complaining about the ineptitude of Buhari's police force? When we asked you clowns to campaign for good governance, you thought you were doing us, the anyhowness of Buhari will touch everyone, so continue supporting ineptitude. 😂😂\n1097644962404069376 2019-02-19 00:52:06 +0100 <AODlaggov2015> Harassment by APC Again  https://t.co/bFdGVSokkF\n1097644812314931200 2019-02-19 00:51:31 +0100 <techdbaseengine> Germany broke into two. APC and Buhari keeps emulating  Hitler and his Nazi inductrination. No wonder IPOB, Oduduwa and Arewa wanted to part ways under his administration.\n1097644703296774149 2019-02-19 00:51:05 +0100 <Yurickane> @Marapolsa Goan ask APC. Don’t coman stresus\n1097644615446994944 2019-02-19 00:50:44 +0100 <Itzawesomeagain> The way APC Are Desperate for Power,They might change their Broom To Cutlass 😏😒😆🏃🏃\n1097644608572538880 2019-02-19 00:50:42 +0100 <TheReflectorNG> APC UK Welcomes Campaign Extension, Says Buhari Remain Unbeatable -  https://t.co/H1lSogYEpE  https://t.co/9x6icZCKqg\n1097644286642925568 2019-02-19 00:49:25 +0100 <nonneycrown> To our brainwashed APC dudes If u know, u know #NigeriaDecides2019 #BetterNigeria #BetterWithAtiku  #LGNWA  https://t.co/ysdzZ00Keh\n1097643958719651840 2019-02-19 00:48:07 +0100 <amarachievarist> Between  APC or PDP PDP or APC...one most win and when he wins let give all our supports to him Nigeria is not good Nigeria is bad Nigeria is this and that its because we have no love for each other let love our selfs rematter who wins..i don't know who will win but God knows  https://t.co/98PRDt1htk\n1097643897952428032 2019-02-19 00:47:53 +0100 <shawhoool> oo ima need me them @KidCudi x APC jeans\n1097643738027958273 2019-02-19 00:47:15 +0100 <yayo_jon10> @is_salsu It's either inec is working for apc or pdp...this inec can't be netural\n1097643728146219010 2019-02-19 00:47:12 +0100 <CollinsWorship> *At the APC caucus meeting*  Oshiomole:\n1097643696093319169 2019-02-19 00:47:05 +0100 <hugobuugo> I feel pdp is now  a clean party becus de terrible politicians are now persecuted or they have all entered apc where ur sins will be forgiven.\n1097643660139790336 2019-02-19 00:46:56 +0100 <Boazsportsdad> @APC_54 Will I wish I could say you got your talent from me but we both know that’s not true. Sounds great son and y’all come to the house this weekend and play some.\n1097643429507416065 2019-02-19 00:46:01 +0100 <DRealaideyan> @iamProficience It is downright hilarious, to think  these looter ( APC /PDP ) are still in any conversation when it comes to Nigerian politics. Wake up young folk, if we want to win the future we must vote the looters out now, vote in @aacparty. @Sowore2019 @YeleSowore has policy driven agenda\n1097643378861375488 2019-02-19 00:45:49 +0100 <uchechi_viktor> @YakubDogara I wonder who speaks for an innocent victim when accused of ballot snatching... Arrest and detention will a better solution. And worst of it all, the military will be the APC thugstgat day\n1097643347085283329 2019-02-19 00:45:41 +0100 <JosephEgejuru> @inecnigeria @YouthsForAtiku APC e-rats n desperados....their defeat is imminently inevitable.\n1097643320417837056 2019-02-19 00:45:35 +0100 <_____apc> Makanya aku ga gampang percaya kalau cuma rumor rumor rumor, gosip gosip gosip...\n1097643224880087040 2019-02-19 00:45:12 +0100 <Ifeanyichufu> How did the much celebrated currency swap help Nigeria? Let's face it, APC has been all WIND WITHOUT RAIN.\n1097643136707375104 2019-02-19 00:44:51 +0100 <ShagariJabbi> Baba Wamakko, this is quite clear, necked and blunt true from our leader. only APC is the solution.\n1097643096744124416 2019-02-19 00:44:42 +0100 <ifetexoracle> When APC tries to block Atiku's victory, he keeps disappointing them.🤣🤣  https://t.co/Z1GZyB5xwM\n1097643071297196034 2019-02-19 00:44:36 +0100 <G_Abdulazeez> APC need to realise that majority of Nigerians are behind them &amp; they'll support them to even rig 2019 if possibility arise because our appetite for Next level is out of this world.\n1097643028783587329 2019-02-19 00:44:25 +0100 <_____apc> @iKONICfess Jinhwan, donghyuk\n1097643028272107520 2019-02-19 00:44:25 +0100 <AjammaS> @SaharaReporters Propaganda from dying APC.\n1097642931941306368 2019-02-19 00:44:02 +0100 <markedmond10> APC Chairman, Oshiomhole Alleges That INEC Informed PDP Before Postponing Polls  https://t.co/Vgi8zxWMaD  https://t.co/8xmb4rQoS5\n1097642930678845440 2019-02-19 00:44:02 +0100 <exlinklodge> APC Chairman, Oshiomhole Alleges That INEC Informed PDP Before Postponing Polls  https://t.co/o8V597uG6t\n1097642654979031051 2019-02-19 00:42:56 +0100 <AkadiriKehinde> @DeleMomodu This is bad..it maybe out of anger due to what people are saying about apc.but I think that word altered by Mr P is too much\n1097642584774717441 2019-02-19 00:42:40 +0100 <juudleonard> @realFFK @MBuhari Now Buhari just perfected his plan to kill non supporters of APC under the guise of \"they attempted to snatch ballot box\"\n1097642516160094208 2019-02-19 00:42:23 +0100 <Augustdotun> Right in the APC Caucus meeting were ballot box snatchers, the shoot at sight should have started there.\n1097642487877955585 2019-02-19 00:42:16 +0100 <theonce001> @OkoroCollins11 @inecnigeria @azuosumili Sounding very angry and bitter also. Azu is a partisan journalist. He could've one way or the other cautioned the guy but cos he's apc. He allowed it cos it suits his selfish motives.  That guy that talks like he has hot yam in his mouth azu osumili\n1097642413563277318 2019-02-19 00:41:59 +0100 <cablesdotcom> Get #FiberOptic #Cables in variations such as MTP 12-strand fiber, 10-Gig #OM4 Aqua Fiber and 10-Gig #OM3 multimode, 9/125 Single-mode cables, 50u/125, 62.5u/125, APC Singlemode cables &amp; many more. Visit #DatacommCables’ online site @cablesdotcom:  https://t.co/mlDwYb65bO  https://t.co/3vz75dnyX5\n1097642384517672961 2019-02-19 00:41:52 +0100 <juudleonard> @henryshield Now Buhari has perfected his plan to kill non supporters of APC under the guise of \"they attempted to snatch ballot box\"\n1097642371884425216 2019-02-19 00:41:49 +0100 <lucky_mikoyo> @EEnenetuei Especially the once in Lagos here been sponsored by Bola Tinubu like d famous MC OLOMO use to always rigged election in favour of Tinubu party APC\n1097642310844715009 2019-02-19 00:41:34 +0100 <iam_wilsons> @inecnigeria APC ARE DESPERATE.\n1097642284940701697 2019-02-19 00:41:28 +0100 <Bbc61551114> @APCNigeria @MBuhari That tells you now, that APC Buhari is a full tyranny and Nigerians should not allowe this tyranny to get our vote again. Nigerians must be fully Atikulated on the 23rd of February 2019 so this tyranny will go finally.\n1097642256041951235 2019-02-19 00:41:21 +0100 <Djruffee> I’m still wondering what Kwankwaso did to amass such followership. I still don’t get it. It would take a miracle for APC to sweep Kano fr\n1097642117277630464 2019-02-19 00:40:48 +0100 <officialshegazy> @AfroVII You are still on this matter.. Lol. I have joined the crowd. Wether na apc or pdp member do anyhow, drop them down. Even if person shout \"we no go gree\" , gun them down. It is a decree from above\n1097641862146314241 2019-02-19 00:39:47 +0100 <NnabudeJohn> Now @MBuhari is poised to take responsibility for all the atrocities and trouble that would occur in Nigeria on February 23. Buhari's view is that his ambition should consume the blood of Nigerians whom APC would victimize! #JungleJustice #Lawlessness #Violence #Polls. @UN @Atiku\n1097641758316388352 2019-02-19 00:39:23 +0100 <Btlsblog> ‘They Think All Nigerians Are Stupid’ -Atiku’s Daughter Shades APC, says blackmail against PDP will not work  https://t.co/5UKYcSb3Nf  https://t.co/OugSpGeoLp\n1097641686648397825 2019-02-19 00:39:05 +0100 <EHIEMERE> @PoliceNG How can u guys conclude before ur so-called investigation. Don't be bias in discharging ur duty, APC and PDP are all Nigerians.\n1097641685008465920 2019-02-19 00:39:05 +0100 <MajorTwildo> IGP Adamu Orders For Investigation Of Policemen Displaying APC 4+4 Sign (Photos)  https://t.co/dD64CCQBoM  https://t.co/HX43759OmE\n1097641630407053312 2019-02-19 00:38:52 +0100 <LordCloud3> Loud it oh... Tell them!  The only reason APC came into power was because we were tired of eating the shit PDP were serving us.  Isn't it time for a complete change??\n1097641559472844800 2019-02-19 00:38:35 +0100 <NofNews_Kenya> President Muhammadu Buhari was meeting with senior members of the ruling All Progressives Congress (APC) party on Monday over the... -  https://t.co/HQscycvHwL  https://t.co/YJxE6puv7w\n1097641478690615301 2019-02-19 00:38:16 +0100 <oluwabaale> @KayodeBanji @DeleMomodu Are you saying those journalists and influencers that are with APC are doing it for free, wake up bro\n1097641300160061441 2019-02-19 00:37:33 +0100 <AliIsiyaka> @toluogunlesi This is big united family of APC, I love you all Next level loading\n1097641254404476929 2019-02-19 00:37:22 +0100 <OlayinkaLere> Right in the APC Caucus meeting were ballot box snatchers, the shoot at sight should have started there.\n1097641083117494272 2019-02-19 00:36:42 +0100 <Olayeye6> @MBuhari Is never a mistake or misfortune for Mr President to sign Nigeria peace corps bill into law because his duty is to employs and concerns about Nigeria youths throughout the federation will urge APC government to sign peace corps bill for the benefit of Nigeria citizens  https://t.co/eaIVT8C2h3\n1097640965697753088 2019-02-19 00:36:14 +0100 <GreenWh04274940> Presidency, APC Laying Landmines For INEC To Fail – Dogara  https://t.co/KtT6ukRmRf  https://t.co/DFZHBLdxIf\n1097640937247858688 2019-02-19 00:36:07 +0100 <SJDeuces> I feel i need some apc x cudi pieces to continue the spirit of the apc x kanye collab\n1097640760357408769 2019-02-19 00:35:25 +0100 <Gatiri> @Nobeman80 @jidesanwoolu and @femigbaja of APC should tell us if it is worth risking our lives. I want to hear  https://t.co/5eob6XZFN0 APC candidates.\n1097640647127941124 2019-02-19 00:34:58 +0100 <shonnes> @ruonaotubu @zeuszeddicus1 @SympLySimi Please help me tell them and sound it again!!!! Won't we all just tired of APC and PDP!!!\n1097640628429750273 2019-02-19 00:34:53 +0100 <arctanko> PMB'S statement is not targeted at opposition parties alone. APC ballot box- snatchers are one and the same too.\n1097640492660076544 2019-02-19 00:34:21 +0100 <ClementIykeOke1> @MrAbuSidiq @APCNigeria don't join issues sentimentally. Ofcos dere is freedom of speech but with APC it is hate speech.\n1097640376708616195 2019-02-19 00:33:53 +0100 <Gatiri> @Nobeman80 @jidesanwoolu and @femigbaja of APC are my candidates. Do they support this? No lagosian will support this because Lagos is a different ball game.\n1097640294114222082 2019-02-19 00:33:33 +0100 <OnwardNG> PDP alleges plots by Buhari, APC to truncate democracy  https://t.co/9rUYCzgSwV  https://t.co/RMWY1WC9N7\n1097640076924854273 2019-02-19 00:32:42 +0100 <Abu_Raihaan_> All the best in the years to come wishing you Allah's guidance🙌🏼. @MBuhari  @Apc @APCNigeria\n1097640002551508992 2019-02-19 00:32:24 +0100 <ObeyaOkoh> @BashirAhmaad @MBuhari Buhari was actually referring to his clueless APC deceitful rogues.\n1097639996989812736 2019-02-19 00:32:23 +0100 <AIT_Online> Ortom Sympathises With APC Over Chairman's Murder  https://t.co/BH1aJ4NTDs\n1097639977226244096 2019-02-19 00:32:18 +0100 <ArogunyoComrade> Collect APC money In Jesus Name &amp; vote for PDP” – Dino Melaye tells Nigerians (video) By NellyBillz February 14, 2019 Newsb4u Leave a comment Share on facebookTweet on twitter Collect APC money...  https://t.co/OLVyllVAv9\n1097639890215469056 2019-02-19 00:31:57 +0100 <cesar_omarvzla> #FutVe #TA2019 MIN 10 MON 9 CCS 7 MET 7 ECS 7 ZUL 7 DLG 6 ZAM 6 CAR 6 TAC 6 ARA 5 EME 5 LLA 5 LAR 4 POR 4 ATV 4 TRU 4 APC 2 LAL 2 ANZ 1\n1097639841192394752 2019-02-19 00:31:45 +0100 <JohnLikinyo> Why should INEC be listening to PDP Crying, Yakubu will get sense after d election, he's been compromised. APC should wake up\n1097639695138336769 2019-02-19 00:31:11 +0100 <Fkomeiza> @iyaboawokoya @BashirAhmaad @MBuhari I am not a supporter of any political party but logically  from all indications, it is clear that the APC has no plan to rigg the presidental election.\n1097639688167407616 2019-02-19 00:31:09 +0100 <iam_O2sky> Mr @renoomokri I will advice you tell PDP/ATIKU to inform all voters that no data will reveal who they voted for. Lagos market men and women threatened n compelled to vote APC, they photocopied their PVCs and perhaps told if they don't vote APC they will be traced/reveal by data.\n1097639648946503680 2019-02-19 00:31:00 +0100 <ak_eph> @akaebube @iam_wilsons Can we say #Chelsea = #APC and #MUFC = #PDP. despite the postponement of the elections, #APC LOSES TO #PDP?\n1097639617350852608 2019-02-19 00:30:52 +0100 <Osekita> 'I'm No Longer Interested' — Bauchi Campaign Director From Dogara's Constituency Dumps APC\n1097639524866220032 2019-02-19 00:30:30 +0100 <igakubu_sei_bot> ＜血管内皮の抗血栓機序＞ トロンボモジュリン：PCをAPCに転換し、APCがV因子とⅧ因子を不活化する。 ヘパリン様物質：ATとTFPIが結合 NO／PGI2：血小板機能抑制、血管拡張 線溶系：t-PAがプラスミノーゲンをプラスミンに転換し、プラスミンが血栓を分解しFDPにする。\n1097639463923171328 2019-02-19 00:30:16 +0100 <TheNigerianVoic> PDP Wants To Subvert Deltans Will, APC Alleges  https://t.co/qpbJkWDrIc\n1097639447309545477 2019-02-19 00:30:12 +0100 <tomibady> @GiwaMoore @atiku @OfficialPDPNig @renoomokri Make una donate #BusesForDemocracy too nah. There's nothing bad in doing better, at least APC is using the #FreeWifi initiative of  @jimiagbaje's 2015 campaign in Lagos presently.\n1097639358113419266 2019-02-19 00:29:50 +0100 <Adufe_ga> @channelstv @oluwaloninyo Examples of such include:   1. President M. Buhari  2. El-Rufail 3. APC cabal - Abba Kyari, Mmaman Daura, Funtua etc,  4.Adams Oshiomhole 5. Govr Yahaya Bello of Kogi state  6. Chibuike Amaechi  And more\n1097639161245327360 2019-02-19 00:29:03 +0100 <RoboDefenceBird> IDEX 2019: Paramount Group unveils new Mbombe 4 4x4 wheeled APC  https://t.co/EXfzbJQrrH  https://t.co/JGCJk9Dxxq\n1097639111303852032 2019-02-19 00:28:51 +0100 <oldmanrohm> @Apostle_Todd @KraksHQ @Brodah_Ayo Bros, let's think well o  Atiku voted for Buhari in 2015,he (Buhari)  contested against Jonathan. Atiku was in ApC back then.\n1097639018957848577 2019-02-19 00:28:29 +0100 <GwSwaggernaut> In a country, where SARS officers were snatching ballot boxes for the APC in Port Harcourt.   Imagine people trying to stop them...chaos.\n1097638926095998981 2019-02-19 00:28:07 +0100 <nigeriantribune> Kwara APC warns INEC ahead of polls  https://t.co/9sMmfzKbVe #NewLookTribuneAt70 #NigerianTribuneAt70  https://t.co/XzGtC6XOmW\n1097638903207612418 2019-02-19 00:28:02 +0100 <Omo_Boda_Kunle> IGP Adamu Orders For Investigation Of Policemen Displaying APC 4+4 Sign (Photos)  https://t.co/FeyHkRlOfO  https://t.co/zyDIpfJIxZ\n1097638764631994368 2019-02-19 00:27:29 +0100 <ObeyaOkoh> @BashirAhmaad @MBuhari That's a call to anarchy, chaos and violence. Whatever evil he is planning will end up on his head and all APC members head.\n1097638565343911942 2019-02-19 00:26:41 +0100 <MontfortChinon1> @Imma_povia @MBuhari @BashirAhmaad There is no lost my dear. Don't mind them. #ElRufaiLied  Evil APC ,they are just deceiving us\n1097638532842209281 2019-02-19 00:26:34 +0100 <Gatiri> @LordKalifaa Iam voting for @jidesanwoolu and @femigbaja of APC so you know. I know it is the same APC that will want to start.\n1097638496263684096 2019-02-19 00:26:25 +0100 <sarkinfcbk> KAJURU KILLINGS: GROUP BACKS ELRUFAI, TACKLES PROF ODINKALU  February 18, 2019 Editor News Wants security agents to put  the Prof under surveillance By Hadiza Mohammed, Political Correspondent  The APC...  https://t.co/thLOUNGbNk\n1097638442844983298 2019-02-19 00:26:12 +0100 <sapacommander> This coming Saturday.... Its going to be GOOD VS EIVIL...           BUHARI VS ATIKU...          APC. VS  PDP....     NIGERIA VS 1ST CLASS THIEF'S #NEXTLEVEL... INSHA ALLAH...\n1097638180591939584 2019-02-19 00:25:10 +0100 <AbdulkadriH> Dear @akaebube Chelsea 0-2 United.  Despite winning midweek, it reminds me a lot of ur party who still think APC is like malmo. Just like they always fail the real test to city and united, I see your party failing the real test to APC on Saturday. @iyaboawokoya\n1097638064527167490 2019-02-19 00:24:42 +0100 <BabsOgundimu> You no dey tire!!! Naso APC saint reach.....\n1097637937641070594 2019-02-19 00:24:12 +0100 <bamjok1710> @AishaYesufu @MBuhari Snatch ballot boxes and meet your maker.. -PMB  Simple as APC\n"
     ]
    }
   ],
   "source": [
    "c = twint.Config()\n",
    "c.Search = 'APC'\n",
    "c.Limit = 10    \n",
    "c.Since = '2019-01-19'\n",
    "c.Until = '2019-02-19'\n",
    "#c.Format = \"Tweet: {tweet} | ID: {id} | Created_at: {created_at} | Source: {source} | Favourite_count: {favorite_count} | Retweet_count: {retweet_count}\"\n",
    "c.Custom['tweet'] = [\"tweet\",\"id\", \"created_at\", \"source\", \"retweets_count\"]\n",
    "c.Store_csv = True\n",
    "c.Output = 'data9.csv'\n",
    "c.Store_object = True\n",
    "\n",
    "twint.run.Search(c)\n",
    "\n",
    "c_object = twint.output.tweets_list\n",
    "#c.Output = tweets_as_objects\n",
    "\n",
    "#print(help(c_object))"
   ]
  },
  {
   "cell_type": "code",
   "execution_count": null,
   "metadata": {},
   "outputs": [],
   "source": []
  }
 ]
}