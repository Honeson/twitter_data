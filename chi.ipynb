{
 "metadata": {
  "language_info": {
   "codemirror_mode": {
    "name": "ipython",
    "version": 3
   },
   "file_extension": ".py",
   "mimetype": "text/x-python",
   "name": "python",
   "nbconvert_exporter": "python",
   "pygments_lexer": "ipython3",
   "version": "3.6.3-final"
  },
  "orig_nbformat": 2,
  "kernelspec": {
   "name": "python3",
   "display_name": "Python 3"
  }
 },
 "nbformat": 4,
 "nbformat_minor": 2,
 "cells": [
  {
   "cell_type": "code",
   "execution_count": 1,
   "metadata": {},
   "outputs": [],
   "source": [
    "import re\n",
    "import csv\n",
    "import twint\n",
    "import pandas as pd"
   ]
  },
  {
   "cell_type": "code",
   "execution_count": null,
   "metadata": {},
   "outputs": [],
   "source": [
    "class TweetCollector():\n",
    "    \"\"\"\n",
    "    Functionality to collect tweets and store it in a csv file specified.\n",
    "    \"\"\"\n",
    "    def collect_tweets_and_store_as_csv_file(self, tweets):\n",
    "        with open('OfficialAPCNg33.csv', 'a+', encoding='utf-8-sig') as all_tweets:\n",
    "            csv_writer = csv.writer(all_tweets)\n",
    "            for line in tweets:\n",
    "                #row = [line.tweet, line.id, len(line.tweet), line.created_at, line.source, line.favorites_count, line.retweets_count]\n",
    "                row = [line.tweet, line.id, len(line.tweet), line.date, line.source, line.likes_count, line.retweets_count]\n",
    "                csv_writer.writerow(row)\n",
    "\n",
    "\n",
    "   \n",
    "\n",
    "\n",
    "\n",
    "\n",
    "if __name__ == '__main__':\n",
    "\n",
    "    #twitter_client = TwitterClient()\n",
    "    tweet_collector = TweetCollector()\n",
    "\n",
    "    #api = twitter_client.get_twitter_client_api()\n",
    "\n",
    "    #This is used to get the tweets from APC Handle\n",
    "    '''tweets = api.user_timeline(\n",
    "        screen_name=\"OfficialAPCNg\", \n",
    "        #since-_id=\n",
    "        max_id=1069208235419280000,\n",
    "        count=200,\n",
    "        include_rts=1)'''\n",
    "\n",
    "\n",
    "   \n",
    "\n",
    "\n",
    "    #Using the class object to call the function that stores tweets in a csv file\n",
    "    #tweet_collector.collect_tweets_and_store_as_csv_file(c_object)\n",
    "    "
   ]
  },
  {
   "cell_type": "code",
   "execution_count": 2,
   "metadata": {},
   "outputs": [
    {
     "output_type": "execute_result",
     "data": {
      "text/plain": [
       "id                     0\n",
       "tweet                  0\n",
       "created_at             0\n",
       "source            521436\n",
       "retweets_count         0\n",
       "likes_count            0\n",
       "dtype: int64"
      ]
     },
     "metadata": {},
     "execution_count": 2
    }
   ],
   "source": [
    "df = pd.read_csv('data/pdp_data.csv')\n",
    "del df['source']\n",
    "\n"
   ]
  },
  {
   "cell_type": "code",
   "execution_count": 2,
   "metadata": {},
   "outputs": [],
   "source": [
    "import nest_asyncio\n",
    "nest_asyncio.apply()"
   ]
  },
  {
   "cell_type": "code",
   "execution_count": null,
   "metadata": {},
   "outputs": [],
   "source": []
  },
  {
   "cell_type": "code",
   "execution_count": 3,
   "metadata": {},
   "outputs": [],
   "source": [
    "apc_keywords_list = ['APC', 'Buhari', 'Mohammed Buhari', 'Vote PMB', 'Vote APC', 'Voting APC', 'to vote APC', 'will vote for APC', 'will vote Buhari ']\n",
    "pdp_keywords_list = ['PDP', 'Atiku', 'Atiku Abubakar', 'Vote Atiku', 'Vote PDP', 'Voting PDP', 'to vote PDP', 'will vote for PDP', 'will vote Atiku']"
   ]
  },
  {
   "cell_type": "code",
   "execution_count": 8,
   "metadata": {
    "tags": []
   },
   "outputs": [],
   "source": [
    "def collect_tweets_and_store_as_csv(keyword_list, filename):\n",
    "\n",
    "    for keyword in keyword_list:\n",
    "        c = twint.Config()\n",
    "        filename = filename\n",
    "        c.Search = keyword\n",
    "        c.Limit = 1000000 \n",
    "        c.Since = '2019-01-01'\n",
    "        c.Until = '2019-01-04'\n",
    "        #c.Near = 'Nigeria'\n",
    "        #c.Geo = \"9.077751, 8.6774567, 30km\"\n",
    "        c.Custom['tweet'] = [\"id\", \"tweet\", \"created_at\", \"source\", \"retweets_count\", \"likes_count\"]\n",
    "        c.Store_csv = True\n",
    "        c.Output = filename\n",
    "        c.Hide_output = True\n",
    "        #c.Store_object = True\n",
    "        twint.run.Search(c)"
   ]
  },
  {
   "cell_type": "code",
   "execution_count": 20,
   "metadata": {
    "tags": []
   },
   "outputs": [],
   "source": [
    "collect_tweets_and_store_as_csv(apc_keywords_list, 'data/apc_data.csv')"
   ]
  },
  {
   "cell_type": "code",
   "execution_count": 9,
   "metadata": {},
   "outputs": [
    {
     "output_type": "stream",
     "name": "stdout",
     "text": [
      "[!] No more data! Scraping will stop now.\n",
      "found 0 deleted tweets in this search.\n",
      "[!] No more data! Scraping will stop now.\n",
      "found 0 deleted tweets in this search.\n",
      "[!] No more data! Scraping will stop now.\n",
      "found 0 deleted tweets in this search.\n",
      "[!] No more data! Scraping will stop now.\n",
      "found 0 deleted tweets in this search.\n",
      "[!] No more data! Scraping will stop now.\n",
      "found 0 deleted tweets in this search.\n",
      "[!] No more data! Scraping will stop now.\n",
      "found 0 deleted tweets in this search.\n",
      "[!] No more data! Scraping will stop now.\n",
      "found 0 deleted tweets in this search.\n",
      "[!] No more data! Scraping will stop now.\n",
      "found 0 deleted tweets in this search.\n",
      "[!] No more data! Scraping will stop now.\n",
      "found 0 deleted tweets in this search.\n"
     ]
    }
   ],
   "source": [
    "collect_tweets_and_store_as_csv(pdp_keywords_list, 'data/pdp_data.csv')"
   ]
  },
  {
   "cell_type": "code",
   "execution_count": null,
   "metadata": {},
   "outputs": [],
   "source": [
    "tweet_collector.collect_tweets_and_store_as_csv_file(c_object)"
   ]
  },
  {
   "cell_type": "code",
   "execution_count": null,
   "metadata": {},
   "outputs": [],
   "source": []
  }
 ]
}