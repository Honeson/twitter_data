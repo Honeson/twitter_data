{
 "metadata": {
  "language_info": {
   "codemirror_mode": {
    "name": "ipython",
    "version": 3
   },
   "file_extension": ".py",
   "mimetype": "text/x-python",
   "name": "python",
   "nbconvert_exporter": "python",
   "pygments_lexer": "ipython3",
   "version": "3.6.3-final"
  },
  "orig_nbformat": 2,
  "kernelspec": {
   "name": "python3",
   "display_name": "Python 3"
  }
 },
 "nbformat": 4,
 "nbformat_minor": 2,
 "cells": [
  {
   "cell_type": "code",
   "execution_count": null,
   "metadata": {},
   "outputs": [],
   "source": [
    "import re\n",
    "import csv\n",
    "import twint"
   ]
  },
  {
   "cell_type": "code",
   "execution_count": null,
   "metadata": {},
   "outputs": [],
   "source": [
    "class TweetCollector():\n",
    "    \"\"\"\n",
    "    Functionality to collect tweets and store it in a csv file specified.\n",
    "    \"\"\"\n",
    "    def collect_tweets_and_store_as_csv_file(self, tweets):\n",
    "        with open('OfficialAPCNg33.csv', 'a+', encoding='utf-8-sig') as all_tweets:\n",
    "            csv_writer = csv.writer(all_tweets)\n",
    "            for line in tweets:\n",
    "                #row = [line.tweet, line.id, len(line.tweet), line.created_at, line.source, line.favorites_count, line.retweets_count]\n",
    "                row = [line.tweet, line.id, len(line.tweet), line.date, line.source, line.likes_count, line.retweets_count]\n",
    "                csv_writer.writerow(row)\n",
    "\n",
    "\n",
    "   \n",
    "\n",
    "\n",
    "\n",
    "\n",
    "if __name__ == '__main__':\n",
    "\n",
    "    #twitter_client = TwitterClient()\n",
    "    tweet_collector = TweetCollector()\n",
    "\n",
    "    #api = twitter_client.get_twitter_client_api()\n",
    "\n",
    "    #This is used to get the tweets from APC Handle\n",
    "    '''tweets = api.user_timeline(\n",
    "        screen_name=\"OfficialAPCNg\", \n",
    "        #since-_id=\n",
    "        max_id=1069208235419280000,\n",
    "        count=200,\n",
    "        include_rts=1)'''\n",
    "\n",
    "\n",
    "   \n",
    "\n",
    "\n",
    "    #Using the class object to call the function that stores tweets in a csv file\n",
    "    #tweet_collector.collect_tweets_and_store_as_csv_file(c_object)\n",
    "    "
   ]
  },
  {
   "cell_type": "code",
   "execution_count": null,
   "metadata": {},
   "outputs": [],
   "source": [
    "import nest_asyncio\n",
    "nest_asyncio.apply()"
   ]
  },
  {
   "cell_type": "code",
   "execution_count": null,
   "metadata": {
    "tags": [
     "outputPrepend"
    ]
   },
   "outputs": [],
   "source": [
    "c = twint.Config()\n",
    "c.Search = 'APC'\n",
    "c.Limit = 10    \n",
    "c.Since = '2019-01-19'\n",
    "c.Until = '2019-02-19'\n",
    "#c.Format = \"Tweet: {tweet} | ID: {id} | Created_at: {created_at} | Source: {source} | Favourite_count: {favorite_count} | Retweet_count: {retweet_count}\"\n",
    "c.Custom['tweet'] = [\"id\", \"date\", \"tweet\", \"created_at\", \"source\", \"retweets_count\", \"likes_count\", \"tweet.txt\"]\n",
    "c.Store_csv = True\n",
    "c.Output = 'data/data12.csv'\n",
    "c.Store_object = True\n",
    "\n",
    "twint.run.Search(c)\n",
    "\n",
    "c_object = twint.output.tweets_list\n",
    "\n",
    "#print(help(c_object))"
   ]
  },
  {
   "cell_type": "code",
   "execution_count": null,
   "metadata": {},
   "outputs": [],
   "source": [
    "tweet_collector.collect_tweets_and_store_as_csv_file(c_object)"
   ]
  },
  {
   "cell_type": "code",
   "execution_count": null,
   "metadata": {},
   "outputs": [],
   "source": []
  }
 ]
}